{
 "cells": [
  {
   "cell_type": "code",
   "execution_count": 25,
   "metadata": {},
   "outputs": [
    {
     "ename": "SyntaxError",
     "evalue": "invalid syntax (<ipython-input-25-df6815fde70c>, line 14)",
     "output_type": "error",
     "traceback": [
      "\u001b[1;36m  File \u001b[1;32m\"<ipython-input-25-df6815fde70c>\"\u001b[1;36m, line \u001b[1;32m14\u001b[0m\n\u001b[1;33m    except, e:\u001b[0m\n\u001b[1;37m          ^\u001b[0m\n\u001b[1;31mSyntaxError\u001b[0m\u001b[1;31m:\u001b[0m invalid syntax\n"
     ]
    }
   ],
   "source": [
    "fd =  open('people_only.txt', 'r')\n",
    "completed = False\n",
    "\n",
    "line_counter = 0\n",
    "def readLine():\n",
    "    global  line_counter, completed, fd\n",
    "    try:\n",
    "        print \"B\"\n",
    "        l = fd.readLine().strip()\n",
    "        print \"D\"\n",
    "        line_counter += 1\n",
    "        print \"%04i - %s\" % (line_counter, l)\n",
    "        return l\n",
    "    except Exception as e\n",
    "        print e\n",
    "        completed = True\n",
    "        fd.close()\n",
    "        return None\n",
    "\n",
    "\n",
    "line = ''\n",
    "while not completed:\n",
    "    while line == '':\n",
    "        print \"O\"\n",
    "        line = readLine()\n",
    "        print \"A\"\n",
    "    name = readLine()\n",
    "    readLine()\n",
    "    poem = []\n",
    "    line = readLine()\n",
    "    while line:\n",
    "        poem.append(line)\n",
    "        line = readLine()\n",
    "    \n",
    "print \"closing\"\n",
    "fd.close()\n",
    "\n",
    "    "
   ]
  },
  {
   "cell_type": "code",
   "execution_count": null,
   "metadata": {
    "collapsed": true
   },
   "outputs": [],
   "source": []
  }
 ],
 "metadata": {
  "kernelspec": {
   "display_name": "Python 2",
   "language": "python",
   "name": "python2"
  },
  "language_info": {
   "codemirror_mode": {
    "name": "ipython",
    "version": 2
   },
   "file_extension": ".py",
   "mimetype": "text/x-python",
   "name": "python",
   "nbconvert_exporter": "python",
   "pygments_lexer": "ipython2",
   "version": "2.7.13"
  }
 },
 "nbformat": 4,
 "nbformat_minor": 2
}
